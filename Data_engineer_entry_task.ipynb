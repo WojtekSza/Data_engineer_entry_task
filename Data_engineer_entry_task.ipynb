{
  "cells": [
    {
      "cell_type": "markdown",
      "metadata": {
        "id": "view-in-github",
        "colab_type": "text"
      },
      "source": [
        "<a href=\"https://colab.research.google.com/github/WojtekSza/Data_engineer_entry_task/blob/feature/Data_engineer_entry_task.ipynb\" target=\"_parent\"><img src=\"https://colab.research.google.com/assets/colab-badge.svg\" alt=\"Open In Colab\"/></a>"
      ]
    },
    {
      "cell_type": "markdown",
      "metadata": {
        "id": "KxjzNaELdykz"
      },
      "source": [
        "**Data Engineer Entry Task**![SE.jpg](data:image/jpeg;base64,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)"
      ]
    },
    {
      "cell_type": "code",
      "execution_count": 5,
      "metadata": {
        "id": "GwUG2mFRd6Gy"
      },
      "outputs": [],
      "source": [
        "import pandas as pd\n",
        "import requests\n",
        "import gzip\n",
        "import json\n",
        "import numpy as np"
      ]
    },
    {
      "cell_type": "markdown",
      "source": [
        "# SCRIPT TO DOWNLOAD DATA:"
      ],
      "metadata": {
        "id": "hlFfKGSmILru"
      }
    },
    {
      "cell_type": "code",
      "source": [
        "f = open(\"data_ingestion.txt\", \"w\")\n",
        "f.close()"
      ],
      "metadata": {
        "id": "EzPoSHqrpPv8"
      },
      "execution_count": 31,
      "outputs": []
    },
    {
      "cell_type": "code",
      "source": [
        "year ='2015'\n",
        "month='01'\n",
        "for i in range(1,29):\n",
        "    for ii in range (0,24): \n",
        "      if i<10:\n",
        "        url=\"https://data.gharchive.org/\"+year+\"-\"+month+\"-0\"+str(i)+'-'+str(ii)+\".json.gz\"\n",
        "        response = requests.get(url)\n",
        "        data=gzip.decompress(response.content)\n",
        "        data=data.decode(\"utf-8\")\n",
        "        #data=data.split('\\n')\n",
        "        #data.pop()\n",
        "        #all_data.extend(data)\n",
        "        with open(\"data_ingestion.txt\",'a',encoding = 'utf-8') as f:\n",
        "            f.write(data)\n",
        "        print('day :'+str(i)+' hour :'+str(ii))\n",
        "      else:\n",
        "        url=\"https://data.gharchive.org/\"+year+\"-\"+month+\"-0\"+str(i)+'-'+str(ii)+\".json.gz\"\n",
        "        response = requests.get(url)\n",
        "        data=gzip.decompress(response.content)\n",
        "        data=data.decode(\"utf-8\")\n",
        "        #data=data.split('\\n')\n",
        "        #data.pop()\n",
        "        #all_data.extend(data)\n",
        "        with open(\"data_ingestion.txt\",'a',encoding = 'utf-8') as f:\n",
        "            f.write(data)        \n",
        "        print('day :'+str(i)+' hour :'+str(ii))"
      ],
      "metadata": {
        "id": "y5b_dtJLs7u9"
      },
      "execution_count": null,
      "outputs": []
    },
    {
      "cell_type": "code",
      "source": [
        "database=[]\n",
        "with open(\"data_ingestion.txt\") as fileobject:\n",
        "    for line in fileobject:\n",
        "      data_json = json.loads(line)\n",
        "      database.append([data_json['created_at'],data_json['repo']['id'],data_json['repo']['name'],data_json['actor']['id'],data_json['actor']['login'],data_json['type']])"
      ],
      "metadata": {
        "id": "TIFKjliN9P3M"
      },
      "execution_count": 7,
      "outputs": []
    },
    {
      "cell_type": "code",
      "source": [
        "dataframe=pd.DataFrame(database,columns=['created_at','repo_id','repo','user_id','user','type'])\n",
        "dataframe['created_at']=pd.to_datetime(dataframe['created_at']).dt.date\n",
        "dataframe.info()"
      ],
      "metadata": {
        "colab": {
          "base_uri": "https://localhost:8080/"
        },
        "id": "x_-sxTTI9xrw",
        "outputId": "195b7876-3093-4601-cccd-e4d65e858b9a"
      },
      "execution_count": 8,
      "outputs": [
        {
          "output_type": "stream",
          "name": "stdout",
          "text": [
            "<class 'pandas.core.frame.DataFrame'>\n",
            "RangeIndex: 12605632 entries, 0 to 12605631\n",
            "Data columns (total 6 columns):\n",
            " #   Column      Dtype \n",
            "---  ------      ----- \n",
            " 0   created_at  object\n",
            " 1   repo_id     int64 \n",
            " 2   repo        object\n",
            " 3   user_id     int64 \n",
            " 4   user        object\n",
            " 5   type        object\n",
            "dtypes: int64(2), object(4)\n",
            "memory usage: 577.0+ MB\n"
          ]
        }
      ]
    },
    {
      "cell_type": "markdown",
      "source": [
        "# REPOSITORY AGGREGATION:"
      ],
      "metadata": {
        "id": "JSNPpKSNIJ_G"
      }
    },
    {
      "cell_type": "code",
      "source": [
        "dataframe_repo=dataframe.copy()"
      ],
      "metadata": {
        "id": "DrwyEBFQhfFj"
      },
      "execution_count": 9,
      "outputs": []
    },
    {
      "cell_type": "code",
      "source": [
        "dataframe_repo['type'].unique()"
      ],
      "metadata": {
        "colab": {
          "base_uri": "https://localhost:8080/"
        },
        "id": "CFTDTRWbIvXW",
        "outputId": "7a31647b-37f8-4eb2-fcba-a05f46f8c518"
      },
      "execution_count": 10,
      "outputs": [
        {
          "output_type": "execute_result",
          "data": {
            "text/plain": [
              "array(['PushEvent', 'CreateEvent', 'IssueCommentEvent',\n",
              "       'PullRequestReviewCommentEvent', 'PullRequestEvent', 'ForkEvent',\n",
              "       'WatchEvent', 'DeleteEvent', 'IssuesEvent', 'CommitCommentEvent',\n",
              "       'GollumEvent', 'ReleaseEvent', 'MemberEvent', 'PublicEvent'],\n",
              "      dtype=object)"
            ]
          },
          "metadata": {},
          "execution_count": 10
        }
      ]
    },
    {
      "cell_type": "code",
      "source": [
        "dataframe_repo=dataframe_repo[(dataframe_repo['type']=='CreateEvent') | (dataframe_repo['type']=='ForkEvent') | (dataframe_repo['type']=='IssuesEvent') | (dataframe_repo['type']=='PullRequestEvent')]"
      ],
      "metadata": {
        "id": "pavI7mGPhl61"
      },
      "execution_count": 11,
      "outputs": []
    },
    {
      "cell_type": "code",
      "source": [
        "dataframe_repo_pivot=dataframe_repo.pivot_table(index=['created_at','repo_id','repo'], columns='type', values='user',aggfunc='count')"
      ],
      "metadata": {
        "id": "_LNGKYLLgKnN"
      },
      "execution_count": 12,
      "outputs": []
    },
    {
      "cell_type": "code",
      "source": [
        "dataframe_repo_pivot.to_csv('results_repo_aggregation.csv')"
      ],
      "metadata": {
        "id": "cFJDQJhoCa9B"
      },
      "execution_count": 14,
      "outputs": []
    },
    {
      "cell_type": "code",
      "source": [
        "dataframe_repo_pivot"
      ],
      "metadata": {
        "colab": {
          "base_uri": "https://localhost:8080/",
          "height": 672
        },
        "id": "kJr0nSaNIz5a",
        "outputId": "60855f3f-2821-4f93-f7fd-fc5d9dd9cdb9"
      },
      "execution_count": 27,
      "outputs": [
        {
          "output_type": "execute_result",
          "data": {
            "text/plain": [
              "type                                                   CreateEvent  ForkEvent  \\\n",
              "created_at repo_id  repo                                                        \n",
              "2015-01-01 27       rubinius/rubinius                          NaN        NaN   \n",
              "           426      haml/haml                                  NaN        NaN   \n",
              "           912      collectiveidea/awesome_nested_set          NaN        NaN   \n",
              "           1252     lsegal/yard                                NaN        1.0   \n",
              "           1318     sprinkle-tool/sprinkle                     NaN        1.0   \n",
              "...                                                            ...        ...   \n",
              "2015-01-28 29994669 ErikaLim/picApp                            1.0        NaN   \n",
              "           29994673 vladolalik/discgolf                        1.0        NaN   \n",
              "           29994674 ebrengle/api_practice                      1.0        NaN   \n",
              "           29994678 kasima/double_subs                         1.0        NaN   \n",
              "           29994679 katzedon/katzedon.github.io                1.0        NaN   \n",
              "\n",
              "type                                                   IssuesEvent  \\\n",
              "created_at repo_id  repo                                             \n",
              "2015-01-01 27       rubinius/rubinius                         13.0   \n",
              "           426      haml/haml                                  1.0   \n",
              "           912      collectiveidea/awesome_nested_set          NaN   \n",
              "           1252     lsegal/yard                                1.0   \n",
              "           1318     sprinkle-tool/sprinkle                     NaN   \n",
              "...                                                            ...   \n",
              "2015-01-28 29994669 ErikaLim/picApp                            NaN   \n",
              "           29994673 vladolalik/discgolf                        NaN   \n",
              "           29994674 ebrengle/api_practice                      NaN   \n",
              "           29994678 kasima/double_subs                         NaN   \n",
              "           29994679 katzedon/katzedon.github.io                NaN   \n",
              "\n",
              "type                                                   PullRequestEvent  \n",
              "created_at repo_id  repo                                                 \n",
              "2015-01-01 27       rubinius/rubinius                               NaN  \n",
              "           426      haml/haml                                       NaN  \n",
              "           912      collectiveidea/awesome_nested_set               3.0  \n",
              "           1252     lsegal/yard                                     1.0  \n",
              "           1318     sprinkle-tool/sprinkle                          NaN  \n",
              "...                                                                 ...  \n",
              "2015-01-28 29994669 ErikaLim/picApp                                 NaN  \n",
              "           29994673 vladolalik/discgolf                             NaN  \n",
              "           29994674 ebrengle/api_practice                           NaN  \n",
              "           29994678 kasima/double_subs                              NaN  \n",
              "           29994679 katzedon/katzedon.github.io                     NaN  \n",
              "\n",
              "[1485910 rows x 4 columns]"
            ],
            "text/html": [
              "\n",
              "  <div id=\"df-ae992b9f-5a08-46eb-a31a-3b2467ad4e10\">\n",
              "    <div class=\"colab-df-container\">\n",
              "      <div>\n",
              "<style scoped>\n",
              "    .dataframe tbody tr th:only-of-type {\n",
              "        vertical-align: middle;\n",
              "    }\n",
              "\n",
              "    .dataframe tbody tr th {\n",
              "        vertical-align: top;\n",
              "    }\n",
              "\n",
              "    .dataframe thead th {\n",
              "        text-align: right;\n",
              "    }\n",
              "</style>\n",
              "<table border=\"1\" class=\"dataframe\">\n",
              "  <thead>\n",
              "    <tr style=\"text-align: right;\">\n",
              "      <th></th>\n",
              "      <th></th>\n",
              "      <th>type</th>\n",
              "      <th>CreateEvent</th>\n",
              "      <th>ForkEvent</th>\n",
              "      <th>IssuesEvent</th>\n",
              "      <th>PullRequestEvent</th>\n",
              "    </tr>\n",
              "    <tr>\n",
              "      <th>created_at</th>\n",
              "      <th>repo_id</th>\n",
              "      <th>repo</th>\n",
              "      <th></th>\n",
              "      <th></th>\n",
              "      <th></th>\n",
              "      <th></th>\n",
              "    </tr>\n",
              "  </thead>\n",
              "  <tbody>\n",
              "    <tr>\n",
              "      <th rowspan=\"5\" valign=\"top\">2015-01-01</th>\n",
              "      <th>27</th>\n",
              "      <th>rubinius/rubinius</th>\n",
              "      <td>NaN</td>\n",
              "      <td>NaN</td>\n",
              "      <td>13.0</td>\n",
              "      <td>NaN</td>\n",
              "    </tr>\n",
              "    <tr>\n",
              "      <th>426</th>\n",
              "      <th>haml/haml</th>\n",
              "      <td>NaN</td>\n",
              "      <td>NaN</td>\n",
              "      <td>1.0</td>\n",
              "      <td>NaN</td>\n",
              "    </tr>\n",
              "    <tr>\n",
              "      <th>912</th>\n",
              "      <th>collectiveidea/awesome_nested_set</th>\n",
              "      <td>NaN</td>\n",
              "      <td>NaN</td>\n",
              "      <td>NaN</td>\n",
              "      <td>3.0</td>\n",
              "    </tr>\n",
              "    <tr>\n",
              "      <th>1252</th>\n",
              "      <th>lsegal/yard</th>\n",
              "      <td>NaN</td>\n",
              "      <td>1.0</td>\n",
              "      <td>1.0</td>\n",
              "      <td>1.0</td>\n",
              "    </tr>\n",
              "    <tr>\n",
              "      <th>1318</th>\n",
              "      <th>sprinkle-tool/sprinkle</th>\n",
              "      <td>NaN</td>\n",
              "      <td>1.0</td>\n",
              "      <td>NaN</td>\n",
              "      <td>NaN</td>\n",
              "    </tr>\n",
              "    <tr>\n",
              "      <th>...</th>\n",
              "      <th>...</th>\n",
              "      <th>...</th>\n",
              "      <td>...</td>\n",
              "      <td>...</td>\n",
              "      <td>...</td>\n",
              "      <td>...</td>\n",
              "    </tr>\n",
              "    <tr>\n",
              "      <th rowspan=\"5\" valign=\"top\">2015-01-28</th>\n",
              "      <th>29994669</th>\n",
              "      <th>ErikaLim/picApp</th>\n",
              "      <td>1.0</td>\n",
              "      <td>NaN</td>\n",
              "      <td>NaN</td>\n",
              "      <td>NaN</td>\n",
              "    </tr>\n",
              "    <tr>\n",
              "      <th>29994673</th>\n",
              "      <th>vladolalik/discgolf</th>\n",
              "      <td>1.0</td>\n",
              "      <td>NaN</td>\n",
              "      <td>NaN</td>\n",
              "      <td>NaN</td>\n",
              "    </tr>\n",
              "    <tr>\n",
              "      <th>29994674</th>\n",
              "      <th>ebrengle/api_practice</th>\n",
              "      <td>1.0</td>\n",
              "      <td>NaN</td>\n",
              "      <td>NaN</td>\n",
              "      <td>NaN</td>\n",
              "    </tr>\n",
              "    <tr>\n",
              "      <th>29994678</th>\n",
              "      <th>kasima/double_subs</th>\n",
              "      <td>1.0</td>\n",
              "      <td>NaN</td>\n",
              "      <td>NaN</td>\n",
              "      <td>NaN</td>\n",
              "    </tr>\n",
              "    <tr>\n",
              "      <th>29994679</th>\n",
              "      <th>katzedon/katzedon.github.io</th>\n",
              "      <td>1.0</td>\n",
              "      <td>NaN</td>\n",
              "      <td>NaN</td>\n",
              "      <td>NaN</td>\n",
              "    </tr>\n",
              "  </tbody>\n",
              "</table>\n",
              "<p>1485910 rows × 4 columns</p>\n",
              "</div>\n",
              "      <button class=\"colab-df-convert\" onclick=\"convertToInteractive('df-ae992b9f-5a08-46eb-a31a-3b2467ad4e10')\"\n",
              "              title=\"Convert this dataframe to an interactive table.\"\n",
              "              style=\"display:none;\">\n",
              "        \n",
              "  <svg xmlns=\"http://www.w3.org/2000/svg\" height=\"24px\"viewBox=\"0 0 24 24\"\n",
              "       width=\"24px\">\n",
              "    <path d=\"M0 0h24v24H0V0z\" fill=\"none\"/>\n",
              "    <path d=\"M18.56 5.44l.94 2.06.94-2.06 2.06-.94-2.06-.94-.94-2.06-.94 2.06-2.06.94zm-11 1L8.5 8.5l.94-2.06 2.06-.94-2.06-.94L8.5 2.5l-.94 2.06-2.06.94zm10 10l.94 2.06.94-2.06 2.06-.94-2.06-.94-.94-2.06-.94 2.06-2.06.94z\"/><path d=\"M17.41 7.96l-1.37-1.37c-.4-.4-.92-.59-1.43-.59-.52 0-1.04.2-1.43.59L10.3 9.45l-7.72 7.72c-.78.78-.78 2.05 0 2.83L4 21.41c.39.39.9.59 1.41.59.51 0 1.02-.2 1.41-.59l7.78-7.78 2.81-2.81c.8-.78.8-2.07 0-2.86zM5.41 20L4 18.59l7.72-7.72 1.47 1.35L5.41 20z\"/>\n",
              "  </svg>\n",
              "      </button>\n",
              "      \n",
              "  <style>\n",
              "    .colab-df-container {\n",
              "      display:flex;\n",
              "      flex-wrap:wrap;\n",
              "      gap: 12px;\n",
              "    }\n",
              "\n",
              "    .colab-df-convert {\n",
              "      background-color: #E8F0FE;\n",
              "      border: none;\n",
              "      border-radius: 50%;\n",
              "      cursor: pointer;\n",
              "      display: none;\n",
              "      fill: #1967D2;\n",
              "      height: 32px;\n",
              "      padding: 0 0 0 0;\n",
              "      width: 32px;\n",
              "    }\n",
              "\n",
              "    .colab-df-convert:hover {\n",
              "      background-color: #E2EBFA;\n",
              "      box-shadow: 0px 1px 2px rgba(60, 64, 67, 0.3), 0px 1px 3px 1px rgba(60, 64, 67, 0.15);\n",
              "      fill: #174EA6;\n",
              "    }\n",
              "\n",
              "    [theme=dark] .colab-df-convert {\n",
              "      background-color: #3B4455;\n",
              "      fill: #D2E3FC;\n",
              "    }\n",
              "\n",
              "    [theme=dark] .colab-df-convert:hover {\n",
              "      background-color: #434B5C;\n",
              "      box-shadow: 0px 1px 3px 1px rgba(0, 0, 0, 0.15);\n",
              "      filter: drop-shadow(0px 1px 2px rgba(0, 0, 0, 0.3));\n",
              "      fill: #FFFFFF;\n",
              "    }\n",
              "  </style>\n",
              "\n",
              "      <script>\n",
              "        const buttonEl =\n",
              "          document.querySelector('#df-ae992b9f-5a08-46eb-a31a-3b2467ad4e10 button.colab-df-convert');\n",
              "        buttonEl.style.display =\n",
              "          google.colab.kernel.accessAllowed ? 'block' : 'none';\n",
              "\n",
              "        async function convertToInteractive(key) {\n",
              "          const element = document.querySelector('#df-ae992b9f-5a08-46eb-a31a-3b2467ad4e10');\n",
              "          const dataTable =\n",
              "            await google.colab.kernel.invokeFunction('convertToInteractive',\n",
              "                                                     [key], {});\n",
              "          if (!dataTable) return;\n",
              "\n",
              "          const docLinkHtml = 'Like what you see? Visit the ' +\n",
              "            '<a target=\"_blank\" href=https://colab.research.google.com/notebooks/data_table.ipynb>data table notebook</a>'\n",
              "            + ' to learn more about interactive tables.';\n",
              "          element.innerHTML = '';\n",
              "          dataTable['output_type'] = 'display_data';\n",
              "          await google.colab.output.renderOutput(dataTable, element);\n",
              "          const docLink = document.createElement('div');\n",
              "          docLink.innerHTML = docLinkHtml;\n",
              "          element.appendChild(docLink);\n",
              "        }\n",
              "      </script>\n",
              "    </div>\n",
              "  </div>\n",
              "  "
            ]
          },
          "metadata": {},
          "execution_count": 27
        },
        {
          "output_type": "stream",
          "name": "stdout",
          "text": [
            "Warning: total number of rows (1485910) exceeds max_rows (20000). Limiting to first (20000) rows.\n"
          ]
        }
      ]
    },
    {
      "cell_type": "markdown",
      "source": [
        "# USER AGGREGATION:"
      ],
      "metadata": {
        "id": "GHjpUXRiESOp"
      }
    },
    {
      "cell_type": "code",
      "source": [
        "dataframe_users=dataframe.copy()"
      ],
      "metadata": {
        "id": "1fJfMv5CF0EI"
      },
      "execution_count": 16,
      "outputs": []
    },
    {
      "cell_type": "code",
      "source": [
        "dataframe_users=dataframe_users[(dataframe_users['type']=='CreateEvent') | (dataframe_users['type']=='IssuesEvent') | (dataframe_users['type']=='PullRequestEvent')]"
      ],
      "metadata": {
        "id": "4kqJJS8EGeGQ"
      },
      "execution_count": 19,
      "outputs": []
    },
    {
      "cell_type": "code",
      "source": [
        "dataframe_users_pivot=dataframe_users.pivot_table(index=['created_at','user_id','user'], columns='type', values='repo',aggfunc='count')"
      ],
      "metadata": {
        "id": "8sAaDEdUGaVi"
      },
      "execution_count": 21,
      "outputs": []
    },
    {
      "cell_type": "code",
      "source": [
        "dataframe_users_pivot.to_csv('results_user_aggregation.csv')"
      ],
      "metadata": {
        "id": "-eA_ZxxVGK4K"
      },
      "execution_count": 23,
      "outputs": []
    },
    {
      "cell_type": "code",
      "source": [
        "dataframe_users_pivot"
      ],
      "metadata": {
        "colab": {
          "base_uri": "https://localhost:8080/",
          "height": 672
        },
        "id": "I3sEG2Q5I1nx",
        "outputId": "7651b522-284a-4276-e21b-6038192d9f87"
      },
      "execution_count": 30,
      "outputs": [
        {
          "output_type": "execute_result",
          "data": {
            "text/plain": [
              "type                                CreateEvent  IssuesEvent  PullRequestEvent\n",
              "created_at user_id  user                                                      \n",
              "2015-01-01 100      willcodeforfoo          NaN          1.0               NaN\n",
              "           137      josh                    1.0          NaN               NaN\n",
              "           141      technomancy             NaN          1.0               NaN\n",
              "           224      rdempsey                1.0          NaN               NaN\n",
              "           233      tdreyno                 NaN          1.0               NaN\n",
              "...                                         ...          ...               ...\n",
              "2015-01-28 10749479 bivvend                 1.0          NaN               NaN\n",
              "           10749484 katbetz                 1.0          NaN               NaN\n",
              "           10749489 oleman204               1.0          NaN               NaN\n",
              "           10749501 estufas                 1.0          NaN               NaN\n",
              "           10749502 EmmaLii                 1.0          NaN               NaN\n",
              "\n",
              "[1039730 rows x 3 columns]"
            ],
            "text/html": [
              "\n",
              "  <div id=\"df-a1682015-ef1a-462e-acf1-e54d4af12a95\">\n",
              "    <div class=\"colab-df-container\">\n",
              "      <div>\n",
              "<style scoped>\n",
              "    .dataframe tbody tr th:only-of-type {\n",
              "        vertical-align: middle;\n",
              "    }\n",
              "\n",
              "    .dataframe tbody tr th {\n",
              "        vertical-align: top;\n",
              "    }\n",
              "\n",
              "    .dataframe thead th {\n",
              "        text-align: right;\n",
              "    }\n",
              "</style>\n",
              "<table border=\"1\" class=\"dataframe\">\n",
              "  <thead>\n",
              "    <tr style=\"text-align: right;\">\n",
              "      <th></th>\n",
              "      <th></th>\n",
              "      <th>type</th>\n",
              "      <th>CreateEvent</th>\n",
              "      <th>IssuesEvent</th>\n",
              "      <th>PullRequestEvent</th>\n",
              "    </tr>\n",
              "    <tr>\n",
              "      <th>created_at</th>\n",
              "      <th>user_id</th>\n",
              "      <th>user</th>\n",
              "      <th></th>\n",
              "      <th></th>\n",
              "      <th></th>\n",
              "    </tr>\n",
              "  </thead>\n",
              "  <tbody>\n",
              "    <tr>\n",
              "      <th rowspan=\"5\" valign=\"top\">2015-01-01</th>\n",
              "      <th>100</th>\n",
              "      <th>willcodeforfoo</th>\n",
              "      <td>NaN</td>\n",
              "      <td>1.0</td>\n",
              "      <td>NaN</td>\n",
              "    </tr>\n",
              "    <tr>\n",
              "      <th>137</th>\n",
              "      <th>josh</th>\n",
              "      <td>1.0</td>\n",
              "      <td>NaN</td>\n",
              "      <td>NaN</td>\n",
              "    </tr>\n",
              "    <tr>\n",
              "      <th>141</th>\n",
              "      <th>technomancy</th>\n",
              "      <td>NaN</td>\n",
              "      <td>1.0</td>\n",
              "      <td>NaN</td>\n",
              "    </tr>\n",
              "    <tr>\n",
              "      <th>224</th>\n",
              "      <th>rdempsey</th>\n",
              "      <td>1.0</td>\n",
              "      <td>NaN</td>\n",
              "      <td>NaN</td>\n",
              "    </tr>\n",
              "    <tr>\n",
              "      <th>233</th>\n",
              "      <th>tdreyno</th>\n",
              "      <td>NaN</td>\n",
              "      <td>1.0</td>\n",
              "      <td>NaN</td>\n",
              "    </tr>\n",
              "    <tr>\n",
              "      <th>...</th>\n",
              "      <th>...</th>\n",
              "      <th>...</th>\n",
              "      <td>...</td>\n",
              "      <td>...</td>\n",
              "      <td>...</td>\n",
              "    </tr>\n",
              "    <tr>\n",
              "      <th rowspan=\"5\" valign=\"top\">2015-01-28</th>\n",
              "      <th>10749479</th>\n",
              "      <th>bivvend</th>\n",
              "      <td>1.0</td>\n",
              "      <td>NaN</td>\n",
              "      <td>NaN</td>\n",
              "    </tr>\n",
              "    <tr>\n",
              "      <th>10749484</th>\n",
              "      <th>katbetz</th>\n",
              "      <td>1.0</td>\n",
              "      <td>NaN</td>\n",
              "      <td>NaN</td>\n",
              "    </tr>\n",
              "    <tr>\n",
              "      <th>10749489</th>\n",
              "      <th>oleman204</th>\n",
              "      <td>1.0</td>\n",
              "      <td>NaN</td>\n",
              "      <td>NaN</td>\n",
              "    </tr>\n",
              "    <tr>\n",
              "      <th>10749501</th>\n",
              "      <th>estufas</th>\n",
              "      <td>1.0</td>\n",
              "      <td>NaN</td>\n",
              "      <td>NaN</td>\n",
              "    </tr>\n",
              "    <tr>\n",
              "      <th>10749502</th>\n",
              "      <th>EmmaLii</th>\n",
              "      <td>1.0</td>\n",
              "      <td>NaN</td>\n",
              "      <td>NaN</td>\n",
              "    </tr>\n",
              "  </tbody>\n",
              "</table>\n",
              "<p>1039730 rows × 3 columns</p>\n",
              "</div>\n",
              "      <button class=\"colab-df-convert\" onclick=\"convertToInteractive('df-a1682015-ef1a-462e-acf1-e54d4af12a95')\"\n",
              "              title=\"Convert this dataframe to an interactive table.\"\n",
              "              style=\"display:none;\">\n",
              "        \n",
              "  <svg xmlns=\"http://www.w3.org/2000/svg\" height=\"24px\"viewBox=\"0 0 24 24\"\n",
              "       width=\"24px\">\n",
              "    <path d=\"M0 0h24v24H0V0z\" fill=\"none\"/>\n",
              "    <path d=\"M18.56 5.44l.94 2.06.94-2.06 2.06-.94-2.06-.94-.94-2.06-.94 2.06-2.06.94zm-11 1L8.5 8.5l.94-2.06 2.06-.94-2.06-.94L8.5 2.5l-.94 2.06-2.06.94zm10 10l.94 2.06.94-2.06 2.06-.94-2.06-.94-.94-2.06-.94 2.06-2.06.94z\"/><path d=\"M17.41 7.96l-1.37-1.37c-.4-.4-.92-.59-1.43-.59-.52 0-1.04.2-1.43.59L10.3 9.45l-7.72 7.72c-.78.78-.78 2.05 0 2.83L4 21.41c.39.39.9.59 1.41.59.51 0 1.02-.2 1.41-.59l7.78-7.78 2.81-2.81c.8-.78.8-2.07 0-2.86zM5.41 20L4 18.59l7.72-7.72 1.47 1.35L5.41 20z\"/>\n",
              "  </svg>\n",
              "      </button>\n",
              "      \n",
              "  <style>\n",
              "    .colab-df-container {\n",
              "      display:flex;\n",
              "      flex-wrap:wrap;\n",
              "      gap: 12px;\n",
              "    }\n",
              "\n",
              "    .colab-df-convert {\n",
              "      background-color: #E8F0FE;\n",
              "      border: none;\n",
              "      border-radius: 50%;\n",
              "      cursor: pointer;\n",
              "      display: none;\n",
              "      fill: #1967D2;\n",
              "      height: 32px;\n",
              "      padding: 0 0 0 0;\n",
              "      width: 32px;\n",
              "    }\n",
              "\n",
              "    .colab-df-convert:hover {\n",
              "      background-color: #E2EBFA;\n",
              "      box-shadow: 0px 1px 2px rgba(60, 64, 67, 0.3), 0px 1px 3px 1px rgba(60, 64, 67, 0.15);\n",
              "      fill: #174EA6;\n",
              "    }\n",
              "\n",
              "    [theme=dark] .colab-df-convert {\n",
              "      background-color: #3B4455;\n",
              "      fill: #D2E3FC;\n",
              "    }\n",
              "\n",
              "    [theme=dark] .colab-df-convert:hover {\n",
              "      background-color: #434B5C;\n",
              "      box-shadow: 0px 1px 3px 1px rgba(0, 0, 0, 0.15);\n",
              "      filter: drop-shadow(0px 1px 2px rgba(0, 0, 0, 0.3));\n",
              "      fill: #FFFFFF;\n",
              "    }\n",
              "  </style>\n",
              "\n",
              "      <script>\n",
              "        const buttonEl =\n",
              "          document.querySelector('#df-a1682015-ef1a-462e-acf1-e54d4af12a95 button.colab-df-convert');\n",
              "        buttonEl.style.display =\n",
              "          google.colab.kernel.accessAllowed ? 'block' : 'none';\n",
              "\n",
              "        async function convertToInteractive(key) {\n",
              "          const element = document.querySelector('#df-a1682015-ef1a-462e-acf1-e54d4af12a95');\n",
              "          const dataTable =\n",
              "            await google.colab.kernel.invokeFunction('convertToInteractive',\n",
              "                                                     [key], {});\n",
              "          if (!dataTable) return;\n",
              "\n",
              "          const docLinkHtml = 'Like what you see? Visit the ' +\n",
              "            '<a target=\"_blank\" href=https://colab.research.google.com/notebooks/data_table.ipynb>data table notebook</a>'\n",
              "            + ' to learn more about interactive tables.';\n",
              "          element.innerHTML = '';\n",
              "          dataTable['output_type'] = 'display_data';\n",
              "          await google.colab.output.renderOutput(dataTable, element);\n",
              "          const docLink = document.createElement('div');\n",
              "          docLink.innerHTML = docLinkHtml;\n",
              "          element.appendChild(docLink);\n",
              "        }\n",
              "      </script>\n",
              "    </div>\n",
              "  </div>\n",
              "  "
            ]
          },
          "metadata": {},
          "execution_count": 30
        },
        {
          "output_type": "stream",
          "name": "stdout",
          "text": [
            "Warning: total number of rows (1039730) exceeds max_rows (20000). Limiting to first (20000) rows.\n"
          ]
        }
      ]
    },
    {
      "cell_type": "markdown",
      "source": [
        "# END"
      ],
      "metadata": {
        "id": "Vm3Q6rS1LRrB"
      }
    }
  ],
  "metadata": {
    "colab": {
      "name": "Data_engineer_entry_task.ipynb",
      "provenance": [],
      "authorship_tag": "ABX9TyOk8m4RhtiUJS8IQSupSNlz",
      "include_colab_link": true
    },
    "kernelspec": {
      "display_name": "Python 3",
      "name": "python3"
    },
    "language_info": {
      "name": "python"
    }
  },
  "nbformat": 4,
  "nbformat_minor": 0
}